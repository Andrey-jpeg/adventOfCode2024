{
 "cells": [
  {
   "cell_type": "code",
   "metadata": {
    "collapsed": true,
    "ExecuteTime": {
     "end_time": "2024-12-07T15:20:20.041478Z",
     "start_time": "2024-12-07T15:20:19.888677Z"
    }
   },
   "source": [
    "val lines = File(\"day4.txt\").readLines().map {\n",
    "    it.toList()\n",
    "}\n",
    "\n",
    "fun <T : Any> List<List<T>>.getOrNull(i: Int, j: Int): T? = try {\n",
    "    this[i][j]\n",
    "} catch (_: IndexOutOfBoundsException) {\n",
    "    null\n",
    "}\n",
    "\n",
    "var result = 0\n",
    "for (i in lines.indices) {\n",
    "    for (j in lines[i].indices) {\n",
    "        if (lines[i][j] == 'X') {\n",
    "            if (lines.getOrNull(i - 1, j) == 'M' && lines.getOrNull(i - 2, j) == 'A' && lines.getOrNull(i - 3, j) == 'S') result+=1\n",
    "            if (lines.getOrNull(i - 1, j - 1) == 'M' && lines.getOrNull(i - 2, j - 2) == 'A' && lines.getOrNull(i - 3, j - 3) == 'S') result+=1\n",
    "            if (lines.getOrNull(i, j - 1) == 'M' && lines.getOrNull(i, j - 2) == 'A' && lines.getOrNull(i, j - 3) == 'S') result+=1\n",
    "            if (lines.getOrNull(i + 1, j - 1) == 'M' && lines.getOrNull(i + 2, j - 2) == 'A' && lines.getOrNull(i + 3, j - 3) == 'S') result+=1\n",
    "            if (lines.getOrNull(i + 1, j) == 'M' && lines.getOrNull(i + 2, j) == 'A' && lines.getOrNull(i + 3, j) == 'S') result+=1\n",
    "            if (lines.getOrNull(i + 1, j + 1) == 'M' && lines.getOrNull(i + 2, j + 2) == 'A' && lines.getOrNull(i + 3, j + 3) == 'S') result+=1\n",
    "            if (lines.getOrNull(i, j + 1) == 'M' && lines.getOrNull(i, j + 2) == 'A' && lines.getOrNull(i, j + 3) == 'S') result+=1\n",
    "            if (lines.getOrNull(i - 1, j + 1) == 'M' && lines.getOrNull(i - 2, j + 2) == 'A' && lines.getOrNull(i - 3, j + 3) == 'S') result+=1\n",
    "        }\n",
    "    }\n",
    "}\n",
    "result"
   ],
   "outputs": [
    {
     "data": {
      "text/plain": [
       "2578"
      ]
     },
     "execution_count": 58,
     "metadata": {},
     "output_type": "execute_result"
    }
   ],
   "execution_count": 58
  },
  {
   "metadata": {
    "ExecuteTime": {
     "end_time": "2024-12-07T15:20:20.121399Z",
     "start_time": "2024-12-07T15:20:20.042238Z"
    }
   },
   "cell_type": "code",
   "source": [
    "val lines = File(\"day4.txt\").readLines().map {\n",
    "    it.toList()\n",
    "}\n",
    "\n",
    "fun <T : Any> List<List<T>>.getOrNull(i: Int, j: Int): T? = try {\n",
    "    this[i][j]\n",
    "} catch (_: IndexOutOfBoundsException) {\n",
    "    null\n",
    "}\n",
    "\n",
    "var result = 0\n",
    "for (i in lines.indices) {\n",
    "    for (j in lines[i].indices) {\n",
    "        if (lines[i][j] == 'A') {\n",
    "            var forwardSlash = \"${lines.getOrNull(i - 1, j - 1)}${lines.getOrNull(i + 1, j + 1)}\"\n",
    "            var backwardSlash = \"${lines.getOrNull(i - 1, j + 1)}${lines.getOrNull(i + 1, j - 1)}\"\n",
    "            if (\n",
    "                (forwardSlash == \"SM\" || forwardSlash == \"MS\") &&\n",
    "                (backwardSlash == \"SM\" || backwardSlash == \"MS\")\n",
    "            ) {\n",
    "                result = result + 1\n",
    "            }\n",
    "        }\n",
    "    }\n",
    "}\n",
    "result"
   ],
   "outputs": [
    {
     "data": {
      "text/plain": [
       "1972"
      ]
     },
     "execution_count": 59,
     "metadata": {},
     "output_type": "execute_result"
    }
   ],
   "execution_count": 59
  },
  {
   "metadata": {
    "ExecuteTime": {
     "end_time": "2024-12-07T15:20:20.122890Z",
     "start_time": "2024-12-07T15:20:20.122053Z"
    }
   },
   "cell_type": "code",
   "source": "",
   "outputs": [],
   "execution_count": 60
  }
 ],
 "metadata": {
  "kernelspec": {
   "display_name": "Kotlin",
   "language": "kotlin",
   "name": "kotlin"
  },
  "language_info": {
   "name": "kotlin",
   "version": "1.9.23",
   "mimetype": "text/x-kotlin",
   "file_extension": ".kt",
   "pygments_lexer": "kotlin",
   "codemirror_mode": "text/x-kotlin",
   "nbconvert_exporter": ""
  }
 },
 "nbformat": 4,
 "nbformat_minor": 0
}
