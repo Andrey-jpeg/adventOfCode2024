{
 "cells": [
  {
   "cell_type": "code",
   "metadata": {
    "collapsed": true,
    "ExecuteTime": {
     "end_time": "2024-12-08T12:51:02.988380Z",
     "start_time": "2024-12-08T12:51:02.670651Z"
    }
   },
   "source": [
    "operator fun <T> MutableList<MutableList<T>>.get(index: Pair<Int, Int>): T = this[index.first][index.second]\n",
    "\n",
    "operator fun <T> MutableList<MutableList<T>>.set(index: Pair<Int, Int>, value: T) {\n",
    "    this[index.first][index.second] = value\n",
    "}\n",
    "\n",
    "val grid = File(\"day6.txt\").readLines().map {\n",
    "    it.map { it.toString() }.toMutableList()\n",
    "}.toMutableList()\n",
    "\n",
    "fun <T> MutableList<MutableList<T>>.rotate() {\n",
    "    val n = this.size\n",
    "    val m = this[0].size\n",
    "\n",
    "    for (i in 0 until n) {\n",
    "        for (j in i + 1 until m) {\n",
    "            val temp = this[i][j]\n",
    "            this[i][j] = this[j][i]\n",
    "            this[j][i] = temp\n",
    "        }\n",
    "    }\n",
    "\n",
    "    for (i in 0 until m) {\n",
    "        var top = 0\n",
    "        var bottom = n - 1\n",
    "        while (top < bottom) {\n",
    "            val temp = this[top][i]\n",
    "            this[top][i] = this[bottom][i]\n",
    "            this[bottom][i] = temp\n",
    "            top++\n",
    "            bottom--\n",
    "        }\n",
    "    }\n",
    "\n",
    "}\n",
    "\n",
    "\n",
    "fun <T> List<List<T>>.print() {\n",
    "    forEach { row ->\n",
    "        println(row.joinToString(\" \"))\n",
    "    }\n",
    "}\n",
    "\n",
    "\n",
    "lateinit var startingIndex: Pair<Int, Int>\n",
    "\n",
    "for (i in grid.indices) {\n",
    "    for (j in grid[i].indices)\n",
    "        if (grid[i][j] == \"^\") {\n",
    "            startingIndex = i to j\n",
    "        }\n",
    "}\n",
    "\n",
    "lateinit var nextIndice: Pair<Int, Int>\n",
    "var currentIndex: Pair<Int, Int> = startingIndex\n",
    "var exit = false\n",
    "while (!exit) {\n",
    "    grid[currentIndex] = \"^\"\n",
    "\n",
    "    val next = grid.getOrNull(currentIndex.first - 1)?.getOrNull(currentIndex.second)\n",
    "\n",
    "\n",
    "    if (next == null) {\n",
    "        exit = true\n",
    "        break\n",
    "    }\n",
    "\n",
    "\n",
    "    if (grid[currentIndex.first - 1][currentIndex.second] == \"#\") {\n",
    "        grid.rotate()\n",
    "\n",
    "        currentIndex = grid.size - currentIndex.second - 1 to currentIndex.first\n",
    "    }\n",
    "\n",
    "    currentIndex = currentIndex.first - 1 to currentIndex.second\n",
    "}\n",
    "\n",
    "grid.map { it.count { it == \"^\" } }.sum()"
   ],
   "outputs": [
    {
     "data": {
      "text/plain": [
       "5129"
      ]
     },
     "execution_count": 32,
     "metadata": {},
     "output_type": "execute_result"
    }
   ],
   "execution_count": 32
  },
  {
   "metadata": {},
   "cell_type": "code",
   "outputs": [],
   "execution_count": null,
   "source": ""
  }
 ],
 "metadata": {
  "kernelspec": {
   "display_name": "Kotlin",
   "language": "kotlin",
   "name": "kotlin"
  },
  "language_info": {
   "name": "kotlin",
   "version": "1.9.23",
   "mimetype": "text/x-kotlin",
   "file_extension": ".kt",
   "pygments_lexer": "kotlin",
   "codemirror_mode": "text/x-kotlin",
   "nbconvert_exporter": ""
  }
 },
 "nbformat": 4,
 "nbformat_minor": 0
}
