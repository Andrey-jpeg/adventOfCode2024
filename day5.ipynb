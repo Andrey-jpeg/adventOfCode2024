{
 "cells": [
  {
   "cell_type": "code",
   "metadata": {
    "collapsed": true,
    "ExecuteTime": {
     "end_time": "2024-12-08T10:41:23.928517Z",
     "start_time": "2024-12-08T10:41:23.744732Z"
    }
   },
   "source": [
    "val input = File(\"day5.txt\").readText().trim()\n",
    "\n",
    "val rules = input.substringBefore(\"\\n\\n\").lines().map {\n",
    "    val (left, right) = Regex(\"\\\\d+\").findAll(it).map { it.value.toInt() }.toList()\n",
    "    left to right\n",
    "}\n",
    "\n",
    "val updates = input.substringAfter(\"\\n\\n\").lines().map {\n",
    "    Regex(\"\\\\d+\").findAll(it).map { it.value.toInt() }.toList()\n",
    "}\n",
    "\n",
    "val <T> List<T>.midpoint: T\n",
    "    get() = this[lastIndex / 2]\n",
    "\n",
    "private val comparator: Comparator<Int> = Comparator { a, b ->\n",
    "    when {\n",
    "        a to b in rules -> -1\n",
    "        b to a in rules -> 1\n",
    "        else -> 0\n",
    "    }\n",
    "}\n",
    "\n",
    "private fun mapToSorted(update: List<Int>): Pair<List<Int>, List<Int>> =\n",
    "    update to update.sortedWith(comparator)\n",
    "\n",
    "updates.map(::mapToSorted)\n",
    "    .filter { it.first == it.second }\n",
    "    .sumOf { it.second.midpoint.toInt() }"
   ],
   "outputs": [
    {
     "data": {
      "text/plain": [
       "5991"
      ]
     },
     "execution_count": 14,
     "metadata": {},
     "output_type": "execute_result"
    }
   ],
   "execution_count": 14
  },
  {
   "metadata": {
    "ExecuteTime": {
     "end_time": "2024-12-08T10:41:24.067536Z",
     "start_time": "2024-12-08T10:41:23.929653Z"
    }
   },
   "cell_type": "code",
   "source": [
    "val input = File(\"day5.txt\").readText().trim()\n",
    "\n",
    "val rules = input.substringBefore(\"\\n\\n\").lines().map {\n",
    "    val (left, right) = Regex(\"\\\\d+\").findAll(it).map { it.value.toInt() }.toList()\n",
    "    left to right\n",
    "}\n",
    "\n",
    "val updates = input.substringAfter(\"\\n\\n\").lines().map {\n",
    "    Regex(\"\\\\d+\").findAll(it).map { it.value.toInt() }.toList()\n",
    "}\n",
    "\n",
    "val <T> List<T>.midpoint: T\n",
    "    get() = this[lastIndex / 2]\n",
    "\n",
    "val comparator: Comparator<Int> = Comparator { a, b ->\n",
    "    when {\n",
    "        a to b in rules -> -1\n",
    "        b to a in rules -> 1\n",
    "        else -> 0\n",
    "    }\n",
    "}\n",
    "\n",
    "fun mapToSorted(update: List<Int>): Pair<List<Int>, List<Int>> =\n",
    "    update to update.sortedWith(comparator)\n",
    "\n",
    "updates.map(::mapToSorted)\n",
    "    .filterNot { it.first == it.second }\n",
    "    .sumOf { it.second.midpoint.toInt() }"
   ],
   "outputs": [
    {
     "data": {
      "text/plain": [
       "5479"
      ]
     },
     "execution_count": 15,
     "metadata": {},
     "output_type": "execute_result"
    }
   ],
   "execution_count": 15
  },
  {
   "metadata": {
    "ExecuteTime": {
     "end_time": "2024-12-08T10:41:24.070673Z",
     "start_time": "2024-12-08T10:41:24.068491Z"
    }
   },
   "cell_type": "code",
   "source": "",
   "outputs": [],
   "execution_count": 16
  }
 ],
 "metadata": {
  "kernelspec": {
   "display_name": "Kotlin",
   "language": "kotlin",
   "name": "kotlin"
  },
  "language_info": {
   "name": "kotlin",
   "version": "1.9.23",
   "mimetype": "text/x-kotlin",
   "file_extension": ".kt",
   "pygments_lexer": "kotlin",
   "codemirror_mode": "text/x-kotlin",
   "nbconvert_exporter": ""
  }
 },
 "nbformat": 4,
 "nbformat_minor": 0
}
