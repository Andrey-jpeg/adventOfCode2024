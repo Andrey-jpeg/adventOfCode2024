{
 "cells": [
  {
   "cell_type": "code",
   "metadata": {
    "collapsed": true,
    "ExecuteTime": {
     "end_time": "2024-12-09T20:14:10.906715Z",
     "start_time": "2024-12-09T20:14:10.773557Z"
    }
   },
   "source": [
    "fun toBigDecimals(string: String) = Regex(\"\\\\d+\").findAll(string).map { it.value.toBigDecimal() }\n",
    "fun toEquations(bigDecimals: Sequence<BigDecimal>) = Equation(bigDecimals.first(), bigDecimals.drop(1).toList())\n",
    "\n",
    "data class Equation(\n",
    "    val result: BigDecimal,\n",
    "    val values: List<BigDecimal>\n",
    ")\n",
    "\n",
    "fun evaluate(equation: Equation, index: Int = 1): Boolean {\n",
    "    return evaluate(equation, index, equation.values.first())\n",
    "}\n",
    "\n",
    "fun evaluate(equation: Equation, index: Int = 1, acc: BigDecimal): Boolean {\n",
    "    if (index == equation.values.size) {\n",
    "        if (acc == equation.result) {\n",
    "            return true\n",
    "        }\n",
    "        return false\n",
    "    }\n",
    "\n",
    "    val addition = acc.plus(equation.values[index])\n",
    "    val multiply = acc.multiply(equation.values[index])\n",
    "\n",
    "    if (evaluate(equation, index + 1, addition)) {\n",
    "        return true\n",
    "    }\n",
    "\n",
    "    if (evaluate(equation, index + 1, multiply)) {\n",
    "        return true\n",
    "    }\n",
    "\n",
    "    return false\n",
    "}\n",
    "\n",
    "File(\"day7.txt\").readLines().map(::toBigDecimals).map(::toEquations).filter(::evaluate).sumOf { it.result }"
   ],
   "outputs": [
    {
     "data": {
      "text/plain": [
       "1399219271639"
      ]
     },
     "execution_count": 19,
     "metadata": {},
     "output_type": "execute_result"
    }
   ],
   "execution_count": 19
  },
  {
   "metadata": {
    "ExecuteTime": {
     "end_time": "2024-12-09T20:21:17.841384Z",
     "start_time": "2024-12-09T20:21:17.655719Z"
    }
   },
   "cell_type": "code",
   "source": [
    "fun toBigDecimals(string: String) = Regex(\"\\\\d+\").findAll(string).map { it.value.toBigDecimal() }\n",
    "fun toEquations(bigDecimals: Sequence<BigDecimal>) = Equation(bigDecimals.first(), bigDecimals.drop(1).toList())\n",
    "\n",
    "data class Equation(\n",
    "    val result: BigDecimal,\n",
    "    val values: List<BigDecimal>\n",
    ")\n",
    "\n",
    "fun evaluate(equation: Equation, index: Int = 1): Boolean {\n",
    "    return evaluate(equation, index, equation.values.first())\n",
    "}\n",
    "\n",
    "fun evaluate(equation: Equation, index: Int = 1, acc: BigDecimal): Boolean {\n",
    "    if (index == equation.values.size) {\n",
    "        if (acc == equation.result) {\n",
    "            return true\n",
    "        }\n",
    "        return false\n",
    "    }\n",
    "\n",
    "    val addition = acc.plus(equation.values[index])\n",
    "    val multiply = acc.multiply(equation.values[index])\n",
    "    val pipe = acc.toString().plus(equation.values[index]).toBigDecimal()\n",
    "\n",
    "    if (evaluate(equation, index + 1, addition)) {\n",
    "        return true\n",
    "    }\n",
    "\n",
    "    if (evaluate(equation, index + 1, multiply)) {\n",
    "        return true\n",
    "    }\n",
    "\n",
    "    if (evaluate(equation, index + 1, pipe)) {\n",
    "        return true\n",
    "    }\n",
    "\n",
    "    return false\n",
    "}\n",
    "\n",
    "File(\"day7.txt\").readLines().map(::toBigDecimals).map(::toEquations).filter(::evaluate).sumOf { it.result }"
   ],
   "outputs": [
    {
     "name": "stderr",
     "output_type": "stream",
     "text": [
      "Line_22.jupyter.kts (37:30 - 33) Not enough information to infer type variable R\n",
      "Line_22.jupyter.kts (37:36 - 49) Unresolved reference: toBigDecimals\n",
      "Line_22.jupyter.kts (37:97 - 99) Unresolved reference: it"
     ]
    }
   ],
   "execution_count": 22
  },
  {
   "metadata": {
    "ExecuteTime": {
     "end_time": "2024-12-09T20:21:17.847344Z",
     "start_time": "2024-12-09T20:21:17.845020Z"
    }
   },
   "cell_type": "code",
   "source": "",
   "outputs": [],
   "execution_count": 23
  },
  {
   "metadata": {},
   "cell_type": "code",
   "outputs": [],
   "execution_count": null,
   "source": ""
  }
 ],
 "metadata": {
  "kernelspec": {
   "display_name": "Kotlin",
   "language": "kotlin",
   "name": "kotlin"
  },
  "language_info": {
   "name": "kotlin",
   "version": "1.9.23",
   "mimetype": "text/x-kotlin",
   "file_extension": ".kt",
   "pygments_lexer": "kotlin",
   "codemirror_mode": "text/x-kotlin",
   "nbconvert_exporter": ""
  }
 },
 "nbformat": 4,
 "nbformat_minor": 0
}
