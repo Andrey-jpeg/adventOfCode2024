{
 "cells": [
  {
   "cell_type": "code",
   "metadata": {
    "collapsed": true,
    "ExecuteTime": {
     "end_time": "2024-12-02T20:02:43.280179Z",
     "start_time": "2024-12-02T20:02:43.118339Z"
    }
   },
   "source": [
    "fun isStrictlyOrdered(row: List<Int>): Boolean {\n",
    "    val isIncreasing = row[0] < row[1]\n",
    "    val isDecreasing = row[0] > row[1]\n",
    "\n",
    "    return if (isIncreasing) {\n",
    "        row.zipWithNext().all { (curr, next) -> curr < next && abs(curr - next) in 1..3 }\n",
    "    } else if (isDecreasing) {\n",
    "        row.zipWithNext().all { (curr, next) -> curr > next && abs(curr - next) in 1..3 }\n",
    "    } else {\n",
    "        false\n",
    "    }\n",
    "}\n",
    "\n",
    "\n",
    "val lines: List<List<Int>> = File(\"day2.txt\").readLines().map { line ->\n",
    "    val numbers = line.split(\" \").map { it.toInt() }.toList()\n",
    "    numbers\n",
    "}\n",
    "\n",
    "lines.fold(0) { acc, ints ->\n",
    "    acc + if (isStrictlyOrdered(ints)) 1 else 0\n",
    "}"
   ],
   "outputs": [
    {
     "data": {
      "text/plain": [
       "230"
      ]
     },
     "execution_count": 17,
     "metadata": {},
     "output_type": "execute_result"
    }
   ],
   "execution_count": 17
  },
  {
   "metadata": {
    "ExecuteTime": {
     "end_time": "2024-12-02T20:02:43.459951Z",
     "start_time": "2024-12-02T20:02:43.281359Z"
    }
   },
   "cell_type": "code",
   "source": [
    "fun isStrictlyOrdered(row: List<Int>): Boolean {\n",
    "    val isIncreasing = row[0] < row[1]\n",
    "    val isDecreasing = row[0] > row[1]\n",
    "\n",
    "    return if (isIncreasing) {\n",
    "        row.zipWithNext().all { (curr, next) -> curr < next && abs(curr - next) in 1..3 }\n",
    "    } else if (isDecreasing) {\n",
    "        row.zipWithNext().all { (curr, next) -> curr > next && abs(curr - next) in 1..3 }\n",
    "    } else {\n",
    "        false\n",
    "    }\n",
    "}\n",
    "\n",
    "\n",
    "val lines: List<List<Int>> = File(\"day2.txt\").readLines().map { line ->\n",
    "    val numbers = line.split(\" \").map(String::toInt).toList()\n",
    "    numbers\n",
    "}\n",
    "\n",
    "lines.fold(0) { acc, ints ->\n",
    "    acc + if (isStrictlyOrdered(ints) || ints.indices.any { i -> \n",
    "        isStrictlyOrdered(ints.toMutableList().apply { removeAt(i) })\n",
    "    }) 1 else 0\n",
    "}"
   ],
   "outputs": [
    {
     "data": {
      "text/plain": [
       "301"
      ]
     },
     "execution_count": 18,
     "metadata": {},
     "output_type": "execute_result"
    }
   ],
   "execution_count": 18
  },
  {
   "metadata": {
    "ExecuteTime": {
     "end_time": "2024-12-02T20:02:43.462137Z",
     "start_time": "2024-12-02T20:02:43.461075Z"
    }
   },
   "cell_type": "code",
   "source": "",
   "outputs": [],
   "execution_count": 19
  }
 ],
 "metadata": {
  "kernelspec": {
   "display_name": "Kotlin",
   "language": "kotlin",
   "name": "kotlin"
  },
  "language_info": {
   "name": "kotlin",
   "version": "1.9.23",
   "mimetype": "text/x-kotlin",
   "file_extension": ".kt",
   "pygments_lexer": "kotlin",
   "codemirror_mode": "text/x-kotlin",
   "nbconvert_exporter": ""
  }
 },
 "nbformat": 4,
 "nbformat_minor": 0
}
