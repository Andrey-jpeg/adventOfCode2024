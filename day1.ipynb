{
 "cells": [
  {
   "cell_type": "code",
   "metadata": {
    "collapsed": true,
    "ExecuteTime": {
     "end_time": "2024-12-02T18:06:28.342346Z",
     "start_time": "2024-12-02T18:06:28.157331Z"
    }
   },
   "source": [
    "val leftList = mutableListOf<Int>()\n",
    "val rightList = mutableListOf<Int>()\n",
    "\n",
    "val lines = File(\"Day1.txt\").forEachLine { line ->\n",
    "    val regex = \"\\\\d+\".toRegex()\n",
    "    val (left, right) = regex.findAll(line).map { it.value.toInt() }.toList()\n",
    "    leftList.add(left)\n",
    "    rightList.add(right)\n",
    "}\n",
    "\n",
    "leftList.sort()\n",
    "rightList.sort()\n",
    "\n",
    "val result = leftList.foldIndexed(0) { index, acc, value ->\n",
    "    val absoluteValue = (value - rightList[index]).absoluteValue\n",
    "    \n",
    "    acc + absoluteValue\n",
    "}\n",
    "result"
   ],
   "outputs": [
    {
     "name": "stdout",
     "output_type": "stream",
     "text": [
      "10054\n",
      "10245\n",
      "191\n"
     ]
    },
    {
     "data": {
      "text/plain": [
       "2057374"
      ]
     },
     "execution_count": 13,
     "metadata": {},
     "output_type": "execute_result"
    }
   ],
   "execution_count": 13
  },
  {
   "metadata": {
    "ExecuteTime": {
     "end_time": "2024-12-02T18:14:13.281748Z",
     "start_time": "2024-12-02T18:14:13.169925Z"
    }
   },
   "cell_type": "code",
   "source": [
    "val leftList = mutableListOf<Int>()\n",
    "val rightList = mutableListOf<Int>()\n",
    "\n",
    "val lines = File(\"Day1.txt\").forEachLine { line ->\n",
    "    val regex = \"\\\\d+\".toRegex()\n",
    "    val (left, right) = regex.findAll(line).map { it.value.toInt() }.toList()\n",
    "    leftList.add(left)\n",
    "    rightList.add(right)\n",
    "}\n",
    "\n",
    "leftList.fold(0) {acc, i ->\n",
    "    val find = rightList.count { it == i }\n",
    "    \n",
    "    val incr = if (find == 0) {\n",
    "        0\n",
    "    } else {\n",
    "        i * find\n",
    "    }\n",
    "    \n",
    "    acc +incr\n",
    "}"
   ],
   "outputs": [
    {
     "data": {
      "text/plain": [
       "23177084"
      ]
     },
     "execution_count": 17,
     "metadata": {},
     "output_type": "execute_result"
    }
   ],
   "execution_count": 17
  },
  {
   "metadata": {},
   "cell_type": "code",
   "outputs": [],
   "execution_count": null,
   "source": ""
  }
 ],
 "metadata": {
  "kernelspec": {
   "display_name": "Kotlin",
   "language": "kotlin",
   "name": "kotlin"
  },
  "language_info": {
   "name": "kotlin",
   "version": "1.9.23",
   "mimetype": "text/x-kotlin",
   "file_extension": ".kt",
   "pygments_lexer": "kotlin",
   "codemirror_mode": "text/x-kotlin",
   "nbconvert_exporter": ""
  }
 },
 "nbformat": 4,
 "nbformat_minor": 0
}
